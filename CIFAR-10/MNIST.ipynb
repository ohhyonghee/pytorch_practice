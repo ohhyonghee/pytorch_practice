{
 "cells": [
  {
   "cell_type": "markdown",
   "metadata": {},
   "source": [
    "# Import module"
   ]
  },
  {
   "cell_type": "code",
   "execution_count": 1,
   "metadata": {},
   "outputs": [],
   "source": [
    "import numpy as np\n",
    "import matplotlib.pyplot as plt\n",
    "import torch\n",
    "import torch.nn as nn\n",
    "import torch.nn.functional as F\n",
    "from torchvision import transforms\n",
    "from torchvision import datasets\n",
    "import torch.nn.init as init"
   ]
  },
  {
   "cell_type": "code",
   "execution_count": 2,
   "metadata": {},
   "outputs": [
    {
     "name": "stdout",
     "output_type": "stream",
     "text": [
      "Using PyTorch version :  1.11.0 Device : cpu\n"
     ]
    }
   ],
   "source": [
    "if torch.cuda.is_available():\n",
    "    DEVICE = torch.device('cuda')\n",
    "else:\n",
    "    DEVICE = torch.device('cpu')\n",
    "print('Using PyTorch version : ',torch.__version__,'Device :',DEVICE)"
   ]
  },
  {
   "cell_type": "markdown",
   "metadata": {},
   "source": [
    "# Parameter"
   ]
  },
  {
   "cell_type": "code",
   "execution_count": 3,
   "metadata": {},
   "outputs": [],
   "source": [
    "BATCH_SIZE = 32\n",
    "EPOCHS = 1"
   ]
  },
  {
   "cell_type": "markdown",
   "metadata": {},
   "source": [
    "# Data Load"
   ]
  },
  {
   "cell_type": "code",
   "execution_count": 6,
   "metadata": {},
   "outputs": [
    {
     "name": "stdout",
     "output_type": "stream",
     "text": [
      "Files already downloaded and verified\n"
     ]
    }
   ],
   "source": [
    "train_dataset = datasets.CIFAR10(root = \"../CIFAR-10/data/CIFAR-10\",   # 보통 pandas로 받아오나, 이번에는 pytorchVision에서 받아옴  MNIST 객체\n",
    "                                train = True,   # train과 test 분리\n",
    "                                download = True,\n",
    "                                transform = transforms.ToTensor()) # 이미지를 텐서로 변경\n",
    "test_dataset = datasets.CIFAR10(root = \"../CIFAR-10/data/CIFAR-10\",\n",
    "                                train = False,\n",
    "                                transform = transforms.ToTensor())\n",
    "train_loader = torch.utils.data.DataLoader(dataset = train_dataset,   # 각각의 minibatch 로 묶어줌    DataLoad 객체\n",
    "                                            batch_size = BATCH_SIZE, # 32개의 batchsize 가  하나의 minibatch 이룸\n",
    "                                            shuffle = False)\n",
    "test_loader = torch.utils.data.DataLoader(dataset = test_dataset,\n",
    "                                            batch_size = BATCH_SIZE,\n",
    "                                            shuffle = False)                                           "
   ]
  },
  {
   "cell_type": "markdown",
   "metadata": {},
   "source": [
    "# Check Data"
   ]
  },
  {
   "cell_type": "code",
   "execution_count": 7,
   "metadata": {},
   "outputs": [
    {
     "name": "stdout",
     "output_type": "stream",
     "text": [
      "[tensor([[[[0.2314, 0.1686, 0.1961,  ..., 0.6196, 0.5961, 0.5804],\n",
      "          [0.0627, 0.0000, 0.0706,  ..., 0.4824, 0.4667, 0.4784],\n",
      "          [0.0980, 0.0627, 0.1922,  ..., 0.4627, 0.4706, 0.4275],\n",
      "          ...,\n",
      "          [0.8157, 0.7882, 0.7765,  ..., 0.6275, 0.2196, 0.2078],\n",
      "          [0.7059, 0.6784, 0.7294,  ..., 0.7216, 0.3804, 0.3255],\n",
      "          [0.6941, 0.6588, 0.7020,  ..., 0.8471, 0.5922, 0.4824]],\n",
      "\n",
      "         [[0.2431, 0.1804, 0.1882,  ..., 0.5176, 0.4902, 0.4863],\n",
      "          [0.0784, 0.0000, 0.0314,  ..., 0.3451, 0.3255, 0.3412],\n",
      "          [0.0941, 0.0275, 0.1059,  ..., 0.3294, 0.3294, 0.2863],\n",
      "          ...,\n",
      "          [0.6667, 0.6000, 0.6314,  ..., 0.5216, 0.1216, 0.1333],\n",
      "          [0.5451, 0.4824, 0.5647,  ..., 0.5804, 0.2431, 0.2078],\n",
      "          [0.5647, 0.5059, 0.5569,  ..., 0.7216, 0.4627, 0.3608]],\n",
      "\n",
      "         [[0.2471, 0.1765, 0.1686,  ..., 0.4235, 0.4000, 0.4039],\n",
      "          [0.0784, 0.0000, 0.0000,  ..., 0.2157, 0.1961, 0.2235],\n",
      "          [0.0824, 0.0000, 0.0314,  ..., 0.1961, 0.1961, 0.1647],\n",
      "          ...,\n",
      "          [0.3765, 0.1333, 0.1020,  ..., 0.2745, 0.0275, 0.0784],\n",
      "          [0.3765, 0.1647, 0.1176,  ..., 0.3686, 0.1333, 0.1333],\n",
      "          [0.4549, 0.3686, 0.3412,  ..., 0.5490, 0.3294, 0.2824]]],\n",
      "\n",
      "\n",
      "        [[[0.6039, 0.4941, 0.4118,  ..., 0.3569, 0.3412, 0.3098],\n",
      "          [0.5490, 0.5686, 0.4902,  ..., 0.3765, 0.3020, 0.2784],\n",
      "          [0.5490, 0.5451, 0.4510,  ..., 0.3098, 0.2667, 0.2627],\n",
      "          ...,\n",
      "          [0.6863, 0.6118, 0.6039,  ..., 0.1647, 0.2392, 0.3647],\n",
      "          [0.6471, 0.6118, 0.6235,  ..., 0.4039, 0.4824, 0.5137],\n",
      "          [0.6392, 0.6196, 0.6392,  ..., 0.5608, 0.5608, 0.5608]],\n",
      "\n",
      "         [[0.6941, 0.5373, 0.4078,  ..., 0.3725, 0.3529, 0.3176],\n",
      "          [0.6275, 0.6000, 0.4902,  ..., 0.3882, 0.3137, 0.2863],\n",
      "          [0.6078, 0.5725, 0.4510,  ..., 0.3216, 0.2745, 0.2706],\n",
      "          ...,\n",
      "          [0.6549, 0.6039, 0.6275,  ..., 0.1333, 0.2078, 0.3255],\n",
      "          [0.6039, 0.5961, 0.6314,  ..., 0.3647, 0.4471, 0.4745],\n",
      "          [0.5804, 0.5804, 0.6118,  ..., 0.5216, 0.5255, 0.5216]],\n",
      "\n",
      "         [[0.7333, 0.5333, 0.3725,  ..., 0.2784, 0.2784, 0.2745],\n",
      "          [0.6627, 0.6039, 0.4627,  ..., 0.3059, 0.2431, 0.2392],\n",
      "          [0.6431, 0.5843, 0.4392,  ..., 0.2510, 0.2157, 0.2157],\n",
      "          ...,\n",
      "          [0.6510, 0.6275, 0.6667,  ..., 0.1412, 0.2235, 0.3569],\n",
      "          [0.5020, 0.5098, 0.5569,  ..., 0.3765, 0.4706, 0.5137],\n",
      "          [0.4706, 0.4784, 0.5216,  ..., 0.5451, 0.5569, 0.5647]]],\n",
      "\n",
      "\n",
      "        [[[1.0000, 0.9922, 0.9922,  ..., 0.9922, 0.9922, 0.9922],\n",
      "          [1.0000, 1.0000, 1.0000,  ..., 1.0000, 1.0000, 1.0000],\n",
      "          [1.0000, 0.9961, 0.9961,  ..., 0.9961, 0.9961, 0.9961],\n",
      "          ...,\n",
      "          [0.4431, 0.4353, 0.4118,  ..., 0.2824, 0.2824, 0.2824],\n",
      "          [0.4353, 0.4078, 0.3882,  ..., 0.2667, 0.2745, 0.3059],\n",
      "          [0.4157, 0.3882, 0.3725,  ..., 0.3059, 0.3098, 0.3137]],\n",
      "\n",
      "         [[1.0000, 0.9922, 0.9922,  ..., 0.9922, 0.9922, 0.9922],\n",
      "          [1.0000, 1.0000, 1.0000,  ..., 1.0000, 1.0000, 1.0000],\n",
      "          [1.0000, 0.9961, 0.9961,  ..., 0.9961, 0.9961, 0.9961],\n",
      "          ...,\n",
      "          [0.4706, 0.4627, 0.4392,  ..., 0.3176, 0.3137, 0.3137],\n",
      "          [0.4627, 0.4353, 0.4157,  ..., 0.2941, 0.2980, 0.3294],\n",
      "          [0.4431, 0.4157, 0.4000,  ..., 0.3333, 0.3333, 0.3373]],\n",
      "\n",
      "         [[1.0000, 0.9922, 0.9922,  ..., 0.9922, 0.9922, 0.9922],\n",
      "          [1.0000, 1.0000, 1.0000,  ..., 1.0000, 1.0000, 1.0000],\n",
      "          [1.0000, 0.9961, 0.9961,  ..., 0.9961, 0.9961, 0.9961],\n",
      "          ...,\n",
      "          [0.4392, 0.4353, 0.4157,  ..., 0.3137, 0.3098, 0.3098],\n",
      "          [0.4314, 0.4078, 0.3843,  ..., 0.2863, 0.2941, 0.3216],\n",
      "          [0.4118, 0.3843, 0.3686,  ..., 0.3255, 0.3255, 0.3294]]],\n",
      "\n",
      "\n",
      "        ...,\n",
      "\n",
      "\n",
      "        [[[0.7922, 0.7922, 0.8000,  ..., 0.8118, 0.8039, 0.7961],\n",
      "          [0.8078, 0.8078, 0.8118,  ..., 0.8235, 0.8157, 0.8078],\n",
      "          [0.8235, 0.8275, 0.8314,  ..., 0.8392, 0.8314, 0.8235],\n",
      "          ...,\n",
      "          [0.8549, 0.8235, 0.7608,  ..., 0.9529, 0.9569, 0.9529],\n",
      "          [0.8588, 0.8510, 0.8471,  ..., 0.9451, 0.9451, 0.9451],\n",
      "          [0.8510, 0.8471, 0.8510,  ..., 0.9373, 0.9373, 0.9412]],\n",
      "\n",
      "         [[0.8000, 0.8000, 0.8078,  ..., 0.8157, 0.8078, 0.8000],\n",
      "          [0.8157, 0.8157, 0.8196,  ..., 0.8275, 0.8196, 0.8118],\n",
      "          [0.8314, 0.8353, 0.8392,  ..., 0.8392, 0.8353, 0.8275],\n",
      "          ...,\n",
      "          [0.8510, 0.8196, 0.7608,  ..., 0.9490, 0.9490, 0.9529],\n",
      "          [0.8549, 0.8471, 0.8471,  ..., 0.9412, 0.9412, 0.9412],\n",
      "          [0.8471, 0.8431, 0.8471,  ..., 0.9333, 0.9333, 0.9333]],\n",
      "\n",
      "         [[0.7804, 0.7804, 0.7882,  ..., 0.7843, 0.7804, 0.7765],\n",
      "          [0.7961, 0.7961, 0.8000,  ..., 0.8039, 0.7961, 0.7882],\n",
      "          [0.8118, 0.8157, 0.8235,  ..., 0.8235, 0.8157, 0.8078],\n",
      "          ...,\n",
      "          [0.8706, 0.8392, 0.7765,  ..., 0.9686, 0.9686, 0.9686],\n",
      "          [0.8745, 0.8667, 0.8627,  ..., 0.9608, 0.9608, 0.9608],\n",
      "          [0.8667, 0.8627, 0.8667,  ..., 0.9529, 0.9529, 0.9529]]],\n",
      "\n",
      "\n",
      "        [[[0.4941, 0.4784, 0.4941,  ..., 0.4863, 0.4706, 0.4588],\n",
      "          [0.4784, 0.4667, 0.4745,  ..., 0.4863, 0.4784, 0.4588],\n",
      "          [0.4784, 0.4745, 0.4745,  ..., 0.4941, 0.4824, 0.4745],\n",
      "          ...,\n",
      "          [0.4941, 0.4941, 0.5020,  ..., 0.5216, 0.4784, 0.4471],\n",
      "          [0.4902, 0.4941, 0.4980,  ..., 0.5020, 0.4745, 0.4471],\n",
      "          [0.4824, 0.4824, 0.4941,  ..., 0.5020, 0.4941, 0.4745]],\n",
      "\n",
      "         [[0.4627, 0.4510, 0.4667,  ..., 0.4627, 0.4471, 0.4353],\n",
      "          [0.4510, 0.4392, 0.4471,  ..., 0.4627, 0.4549, 0.4353],\n",
      "          [0.4510, 0.4471, 0.4471,  ..., 0.4706, 0.4588, 0.4510],\n",
      "          ...,\n",
      "          [0.4627, 0.4627, 0.4706,  ..., 0.4902, 0.4471, 0.4157],\n",
      "          [0.4588, 0.4627, 0.4667,  ..., 0.4706, 0.4431, 0.4157],\n",
      "          [0.4510, 0.4510, 0.4627,  ..., 0.4667, 0.4627, 0.4431]],\n",
      "\n",
      "         [[0.4314, 0.4235, 0.4353,  ..., 0.4157, 0.4000, 0.3882],\n",
      "          [0.4196, 0.4078, 0.4157,  ..., 0.4157, 0.4078, 0.3882],\n",
      "          [0.4196, 0.4157, 0.4157,  ..., 0.4235, 0.4118, 0.4039],\n",
      "          ...,\n",
      "          [0.4196, 0.4196, 0.4275,  ..., 0.4471, 0.4039, 0.3725],\n",
      "          [0.4157, 0.4196, 0.4235,  ..., 0.4275, 0.4000, 0.3725],\n",
      "          [0.4078, 0.4078, 0.4196,  ..., 0.4275, 0.4196, 0.4000]]],\n",
      "\n",
      "\n",
      "        [[[0.9255, 0.9137, 0.9176,  ..., 0.5804, 0.5765, 0.5490],\n",
      "          [0.9529, 0.9490, 0.9529,  ..., 0.6392, 0.6314, 0.6235],\n",
      "          [0.9608, 0.9490, 0.9608,  ..., 0.6392, 0.6314, 0.6157],\n",
      "          ...,\n",
      "          [0.3098, 0.2745, 0.2824,  ..., 0.1490, 0.1412, 0.1294],\n",
      "          [0.3176, 0.3059, 0.2902,  ..., 0.1843, 0.1216, 0.0941],\n",
      "          [0.3137, 0.3137, 0.2902,  ..., 0.1569, 0.1098, 0.0863]],\n",
      "\n",
      "         [[0.9490, 0.9373, 0.9412,  ..., 0.5686, 0.5686, 0.5373],\n",
      "          [0.9765, 0.9686, 0.9804,  ..., 0.6353, 0.6275, 0.6196],\n",
      "          [0.9843, 0.9725, 0.9843,  ..., 0.6353, 0.6275, 0.6157],\n",
      "          ...,\n",
      "          [0.2902, 0.2549, 0.2667,  ..., 0.1216, 0.1137, 0.0980],\n",
      "          [0.3098, 0.2863, 0.2667,  ..., 0.1490, 0.0941, 0.0667],\n",
      "          [0.3137, 0.3020, 0.2627,  ..., 0.1176, 0.0824, 0.0588]],\n",
      "\n",
      "         [[0.9333, 0.9216, 0.9255,  ..., 0.5490, 0.5451, 0.5137],\n",
      "          [0.9608, 0.9569, 0.9647,  ..., 0.6353, 0.6275, 0.6196],\n",
      "          [0.9686, 0.9569, 0.9686,  ..., 0.6510, 0.6431, 0.6314],\n",
      "          ...,\n",
      "          [0.2353, 0.1843, 0.1765,  ..., 0.0980, 0.0902, 0.0745],\n",
      "          [0.2431, 0.2196, 0.1922,  ..., 0.1137, 0.0667, 0.0392],\n",
      "          [0.2471, 0.2392, 0.2039,  ..., 0.0784, 0.0471, 0.0314]]]]), tensor([6, 9, 9, 4, 1, 1, 2, 7, 8, 3, 4, 7, 7, 2, 9, 9, 9, 3, 2, 6, 4, 3, 6, 6,\n",
      "        2, 6, 3, 5, 4, 0, 0, 9])]\n",
      "torch.Size([32, 3, 32, 32])\n",
      "[tensor([[[[0.1961, 0.2000, 0.1647,  ..., 0.1882, 0.0706, 0.0549],\n",
      "          [0.3373, 0.3608, 0.3216,  ..., 0.1804, 0.0667, 0.0431],\n",
      "          [0.1686, 0.1686, 0.2000,  ..., 0.1647, 0.0392, 0.0235],\n",
      "          ...,\n",
      "          [0.8627, 0.8196, 0.7804,  ..., 0.6941, 0.6902, 0.6863],\n",
      "          [0.7373, 0.7137, 0.7137,  ..., 0.6902, 0.6863, 0.6824],\n",
      "          [0.7373, 0.7216, 0.7294,  ..., 0.6902, 0.6902, 0.6784]],\n",
      "\n",
      "         [[0.2510, 0.2471, 0.2157,  ..., 0.1765, 0.0706, 0.0588],\n",
      "          [0.4196, 0.4314, 0.3882,  ..., 0.1686, 0.0667, 0.0471],\n",
      "          [0.2353, 0.2196, 0.2549,  ..., 0.1529, 0.0392, 0.0235],\n",
      "          ...,\n",
      "          [0.6471, 0.6824, 0.6745,  ..., 0.6706, 0.6667, 0.6588],\n",
      "          [0.6980, 0.6667, 0.6314,  ..., 0.6588, 0.6549, 0.6510],\n",
      "          [0.6549, 0.6392, 0.6549,  ..., 0.6627, 0.6588, 0.6471]],\n",
      "\n",
      "         [[0.1451, 0.1608, 0.1608,  ..., 0.1647, 0.0549, 0.0471],\n",
      "          [0.2627, 0.2980, 0.2627,  ..., 0.1608, 0.0549, 0.0392],\n",
      "          [0.1647, 0.1608, 0.1804,  ..., 0.1451, 0.0353, 0.0196],\n",
      "          ...,\n",
      "          [0.5922, 0.6471, 0.6431,  ..., 0.6588, 0.6549, 0.6510],\n",
      "          [0.6353, 0.6353, 0.6157,  ..., 0.6510, 0.6471, 0.6431],\n",
      "          [0.6353, 0.6157, 0.6275,  ..., 0.6510, 0.6510, 0.6353]]],\n",
      "\n",
      "\n",
      "        [[[0.0275, 0.0275, 0.0196,  ..., 0.3216, 0.3137, 0.2706],\n",
      "          [0.0235, 0.0235, 0.0196,  ..., 0.3333, 0.3373, 0.3176],\n",
      "          [0.0039, 0.0275, 0.0314,  ..., 0.3843, 0.3765, 0.3373],\n",
      "          ...,\n",
      "          [0.5882, 0.5294, 0.5059,  ..., 0.2824, 0.1765, 0.1020],\n",
      "          [0.6118, 0.6000, 0.5412,  ..., 0.2235, 0.0902, 0.1490],\n",
      "          [0.7176, 0.7490, 0.7137,  ..., 0.3255, 0.2627, 0.4471]],\n",
      "\n",
      "         [[0.0196, 0.0196, 0.0157,  ..., 0.3294, 0.3333, 0.2863],\n",
      "          [0.0157, 0.0157, 0.0118,  ..., 0.3373, 0.3451, 0.3137],\n",
      "          [0.0039, 0.0275, 0.0314,  ..., 0.3765, 0.3765, 0.3294],\n",
      "          ...,\n",
      "          [0.6000, 0.5333, 0.5059,  ..., 0.2824, 0.2000, 0.1255],\n",
      "          [0.6118, 0.5922, 0.5333,  ..., 0.2275, 0.1255, 0.1765],\n",
      "          [0.7569, 0.7804, 0.7412,  ..., 0.3255, 0.2902, 0.4706]],\n",
      "\n",
      "         [[0.0314, 0.0314, 0.0235,  ..., 0.3059, 0.3176, 0.2667],\n",
      "          [0.0314, 0.0353, 0.0314,  ..., 0.3020, 0.3176, 0.2824],\n",
      "          [0.0235, 0.0471, 0.0510,  ..., 0.3255, 0.3333, 0.2863],\n",
      "          ...,\n",
      "          [0.5451, 0.4745, 0.4431,  ..., 0.2706, 0.2471, 0.2000],\n",
      "          [0.5451, 0.5098, 0.4314,  ..., 0.2196, 0.1882, 0.2510],\n",
      "          [0.7176, 0.7255, 0.6706,  ..., 0.2980, 0.3176, 0.4667]]],\n",
      "\n",
      "\n",
      "        [[[0.6745, 0.6706, 0.6588,  ..., 0.6196, 0.6118, 0.5765],\n",
      "          [0.6627, 0.6588, 0.6588,  ..., 0.6196, 0.5961, 0.5686],\n",
      "          [0.6824, 0.6627, 0.6667,  ..., 0.6157, 0.5843, 0.5725],\n",
      "          ...,\n",
      "          [0.5882, 0.6157, 0.6353,  ..., 0.6196, 0.5765, 0.5451],\n",
      "          [0.5608, 0.5843, 0.6078,  ..., 0.5804, 0.5608, 0.5490],\n",
      "          [0.5804, 0.5725, 0.5843,  ..., 0.5373, 0.5255, 0.5333]],\n",
      "\n",
      "         [[0.7333, 0.7294, 0.7137,  ..., 0.6667, 0.6627, 0.6392],\n",
      "          [0.7255, 0.7176, 0.7216,  ..., 0.6863, 0.6667, 0.6471],\n",
      "          [0.7451, 0.7255, 0.7294,  ..., 0.6941, 0.6667, 0.6588],\n",
      "          ...,\n",
      "          [0.6392, 0.6588, 0.6667,  ..., 0.6588, 0.6275, 0.6039],\n",
      "          [0.6039, 0.6196, 0.6314,  ..., 0.6157, 0.6000, 0.6000],\n",
      "          [0.6196, 0.6078, 0.6157,  ..., 0.5608, 0.5451, 0.5608]],\n",
      "\n",
      "         [[0.5098, 0.5098, 0.4941,  ..., 0.4431, 0.4431, 0.4196],\n",
      "          [0.4824, 0.4784, 0.4824,  ..., 0.4471, 0.4314, 0.4196],\n",
      "          [0.4941, 0.4784, 0.4824,  ..., 0.4510, 0.4235, 0.4275],\n",
      "          ...,\n",
      "          [0.3922, 0.4039, 0.4078,  ..., 0.4235, 0.3882, 0.3529],\n",
      "          [0.3490, 0.3529, 0.3765,  ..., 0.3882, 0.3608, 0.3451],\n",
      "          [0.3647, 0.3490, 0.3608,  ..., 0.3373, 0.3137, 0.3216]]],\n",
      "\n",
      "\n",
      "        ...,\n",
      "\n",
      "\n",
      "        [[[0.4471, 0.4588, 0.4706,  ..., 0.6471, 0.4902, 0.4039],\n",
      "          [0.4353, 0.4549, 0.4745,  ..., 0.6353, 0.4980, 0.4039],\n",
      "          [0.4471, 0.4745, 0.5020,  ..., 0.6549, 0.5176, 0.4157],\n",
      "          ...,\n",
      "          [0.6471, 0.6667, 0.6863,  ..., 0.7255, 0.8118, 0.7882],\n",
      "          [0.6863, 0.6863, 0.7059,  ..., 0.7333, 0.7843, 0.7569],\n",
      "          [0.6784, 0.6706, 0.6941,  ..., 0.8039, 0.8235, 0.7922]],\n",
      "\n",
      "         [[0.4667, 0.4784, 0.4941,  ..., 0.6510, 0.4941, 0.4039],\n",
      "          [0.4549, 0.4745, 0.4941,  ..., 0.6392, 0.5020, 0.4039],\n",
      "          [0.4667, 0.4902, 0.5176,  ..., 0.6588, 0.5216, 0.4235],\n",
      "          ...,\n",
      "          [0.6510, 0.6706, 0.6902,  ..., 0.7020, 0.7804, 0.7569],\n",
      "          [0.6902, 0.6902, 0.7098,  ..., 0.7137, 0.7608, 0.7294],\n",
      "          [0.6824, 0.6745, 0.6980,  ..., 0.7843, 0.8000, 0.7647]],\n",
      "\n",
      "         [[0.4902, 0.4941, 0.5059,  ..., 0.6275, 0.4745, 0.4314],\n",
      "          [0.4784, 0.4980, 0.5216,  ..., 0.6157, 0.4824, 0.4275],\n",
      "          [0.4902, 0.5333, 0.5569,  ..., 0.6353, 0.4941, 0.4000],\n",
      "          ...,\n",
      "          [0.6314, 0.6549, 0.6706,  ..., 0.6588, 0.7608, 0.7255],\n",
      "          [0.6706, 0.6706, 0.6902,  ..., 0.6353, 0.7098, 0.6980],\n",
      "          [0.6627, 0.6549, 0.6784,  ..., 0.7137, 0.7529, 0.7333]]],\n",
      "\n",
      "\n",
      "        [[[0.2980, 0.2863, 0.2706,  ..., 0.2941, 0.2824, 0.2745],\n",
      "          [0.2980, 0.2784, 0.2588,  ..., 0.3098, 0.2980, 0.2941],\n",
      "          [0.2784, 0.2549, 0.2431,  ..., 0.3137, 0.3020, 0.2980],\n",
      "          ...,\n",
      "          [0.0431, 0.0353, 0.0235,  ..., 0.1216, 0.1255, 0.1137],\n",
      "          [0.0000, 0.0000, 0.0000,  ..., 0.0471, 0.0471, 0.0510],\n",
      "          [0.3412, 0.3255, 0.3176,  ..., 0.3882, 0.3882, 0.4000]],\n",
      "\n",
      "         [[0.4627, 0.4627, 0.4549,  ..., 0.5294, 0.5255, 0.5294],\n",
      "          [0.4784, 0.4667, 0.4588,  ..., 0.5333, 0.5294, 0.5373],\n",
      "          [0.4706, 0.4588, 0.4549,  ..., 0.5216, 0.5176, 0.5294],\n",
      "          ...,\n",
      "          [0.1412, 0.1255, 0.1255,  ..., 0.2392, 0.2431, 0.2314],\n",
      "          [0.0745, 0.0510, 0.0275,  ..., 0.1490, 0.1451, 0.1490],\n",
      "          [0.3922, 0.3608, 0.3373,  ..., 0.4549, 0.4510, 0.4667]],\n",
      "\n",
      "         [[0.6549, 0.6431, 0.6353,  ..., 0.7059, 0.6980, 0.7020],\n",
      "          [0.6667, 0.6510, 0.6392,  ..., 0.6980, 0.6941, 0.7020],\n",
      "          [0.6667, 0.6471, 0.6431,  ..., 0.6784, 0.6745, 0.6824],\n",
      "          ...,\n",
      "          [0.2588, 0.2392, 0.2392,  ..., 0.3098, 0.3137, 0.3020],\n",
      "          [0.1804, 0.1569, 0.1412,  ..., 0.2157, 0.2157, 0.2196],\n",
      "          [0.4510, 0.4235, 0.4039,  ..., 0.4980, 0.4980, 0.5098]]],\n",
      "\n",
      "\n",
      "        [[[0.2549, 0.2745, 0.2980,  ..., 0.1294, 0.2314, 0.2431],\n",
      "          [0.2784, 0.3059, 0.3412,  ..., 0.0902, 0.2549, 0.2902],\n",
      "          [0.2706, 0.3020, 0.3216,  ..., 0.0745, 0.2627, 0.3255],\n",
      "          ...,\n",
      "          [0.0549, 0.0549, 0.0549,  ..., 0.2118, 0.2118, 0.2039],\n",
      "          [0.0549, 0.0549, 0.0549,  ..., 0.2078, 0.1765, 0.1490],\n",
      "          [0.0549, 0.0549, 0.0549,  ..., 0.1922, 0.1216, 0.0824]],\n",
      "\n",
      "         [[0.4471, 0.4745, 0.5059,  ..., 0.1843, 0.2431, 0.2588],\n",
      "          [0.4706, 0.5059, 0.5490,  ..., 0.1176, 0.2431, 0.2824],\n",
      "          [0.4627, 0.5059, 0.5373,  ..., 0.0784, 0.2235, 0.2863],\n",
      "          ...,\n",
      "          [0.0549, 0.0549, 0.0549,  ..., 0.2980, 0.3137, 0.3176],\n",
      "          [0.0549, 0.0549, 0.0549,  ..., 0.2980, 0.2706, 0.2471],\n",
      "          [0.0549, 0.0549, 0.0549,  ..., 0.2824, 0.2000, 0.1529]],\n",
      "\n",
      "         [[0.2118, 0.2431, 0.2784,  ..., 0.1647, 0.2078, 0.2196],\n",
      "          [0.2235, 0.2549, 0.2941,  ..., 0.0941, 0.2000, 0.2235],\n",
      "          [0.2078, 0.2353, 0.2471,  ..., 0.0510, 0.1922, 0.2588],\n",
      "          ...,\n",
      "          [0.0549, 0.0549, 0.0549,  ..., 0.1765, 0.1647, 0.1804],\n",
      "          [0.0549, 0.0549, 0.0549,  ..., 0.1804, 0.1451, 0.1333],\n",
      "          [0.0549, 0.0549, 0.0549,  ..., 0.1765, 0.1176, 0.0824]]]]), tensor([1, 3, 4, 0, 3, 7, 3, 3, 5, 2, 2, 7, 1, 1, 1, 2, 2, 0, 9, 5, 7, 9, 2, 2,\n",
      "        5, 2, 4, 3, 1, 1, 8, 2])]\n",
      "torch.Size([32, 3, 32, 32])\n"
     ]
    }
   ],
   "source": [
    "n=0\n",
    "for i in train_loader :  # 이터러블 객체. \n",
    "    n +=1   \n",
    "    print(i)  #  i 는   트레인 데이터셋은  (3차원텐서, 스칼라)           로드 후 [ 4차원텐서 , 1차원텐서  ] 형식으로 이루어짐    \n",
    "    print(i[0].size())  # 데이터 로드 하기 전에는 1 , 28 , 28  50           로드 한 후에 32, 1, 28, 28       이미지데이터수 , 채널 , 가로 , 세로    5041\n",
    "    if n ==2 :                #   즉 모든 수 들이 32개씩 묶인다. 5, 0, 4, 1, 9, 2, 1, 3, 1, 4, 3, 5, 3, 6, 1, 7, 2, 8, 6, 9, 4, 0, 9, 1,\n",
    "                                                                #1, 2, 4, 3, 2, 7, 3, 8\n",
    "        break\n",
    "\n",
    "\n",
    "# 즉 트레인 데이터셋에서  데이터로드 함수를 이용해서 미니배치로 묶어준 것이다."
   ]
  },
  {
   "cell_type": "code",
   "execution_count": 9,
   "metadata": {},
   "outputs": [
    {
     "name": "stdout",
     "output_type": "stream",
     "text": [
      "X_tran: torch.Size([32, 3, 32, 32]) type :  torch.FloatTensor\n",
      "Y_tran: torch.Size([32]) type :  torch.LongTensor\n"
     ]
    }
   ],
   "source": [
    "for (X_train, Y_train) in train_loader:\n",
    "    print(\"X_tran:\", X_train.size(), 'type : ', X_train.type())\n",
    "    print(\"Y_tran:\", Y_train.size(), 'type : ', Y_train.type())\n",
    "    break"
   ]
  },
  {
   "cell_type": "code",
   "execution_count": 25,
   "metadata": {},
   "outputs": [
    {
     "data": {
      "image/png": "[encoded data removed]",
      "text/plain": [
       "<Figure size 720x72 with 10 Axes>"
      ]
     },
     "metadata": {
      "needs_background": "light"
     },
     "output_type": "display_data"
    }
   ],
   "source": [
    "pltsize = 1   #5, 0, 4, 1, 9, 2, 1, 3, 1, 4, 3, 5, 3, 6, 1, 7, 2, 8, 6, 9, 4, 0, 9, 1 , 1, 2, 4, 3, 2, 7, 3, 8   하나의 미니배치이다. 근데, 미니배치 0 번 인덱스인데 왜 5만 나오지 그럼 다음미니배치인 6은 어떻게 ? 아니다. 이게 맞다.  32개가 있다는것은 ,  미니배치가 32개라는 말이 아니라, 한개의 미니배치 안에 32개의 데이터가 있다는 말이다. 그래서 다음 데이터가 맞다.  다음 미니배치를 불러오려면??\n",
    "                                                               \n",
    "plt.figure(figsize=(10 * pltsize, pltsize))\n",
    "#plt.imshow(X_train[3,:,:,:].reshape(28,28))    \n",
    "\n",
    "for i in range(10):\n",
    "    plt.subplot(1,10,i+1)\n",
    "    plt.axis('off')\n",
    "    plt.imshow(np.transpose(X_train[i],(1,2,0)))  # 미니배치,채널,높이,너비 > 채널,높이,너비 > 너비 , 높이 , 채널\n",
    "    #plt.imshow(X_train[i,:,:,:].reshape(32,32,3))   # 아.. 3채널이니까 3* 32*32 니까 이렇게 못만들구나\n",
    "    plt.title('Class : '+str(Y_train[i].item()))"
   ]
  },
  {
   "cell_type": "markdown",
   "metadata": {},
   "source": [
    "# Module"
   ]
  },
  {
   "cell_type": "code",
   "execution_count": 28,
   "metadata": {},
   "outputs": [],
   "source": [
    "class Net(nn.Module) : # pytorch 모듈 내에 nn.Module 상속         \n",
    "    def __init__(self):  # 생성자 풀리커넥티드 레이어 생성\n",
    "        super(Net,self).__init__()  # nn.Module 메소드 상속받아서 이용\n",
    "        self.fc1 = nn.Linear(28*28, 512)   # 첫번째 fullyconnectedlayer   1,28,28   >> 512 로\n",
    "        self.fc2 = nn.Linear(512,256)   # 두번째   512 >> 256 으로\n",
    "        self.fc3 = nn.Linear(256,10)  # 세번째  256 >> 10 으로   0부터 9까지      >> 즉 \n",
    "        self.dropout_prob = 0.5\n",
    "\n",
    "        self.batch_norm1 = nn.BatchNorm1d(512)  # 512 차원으로 설정  첫번째 layer output에 맞춰서\n",
    "        self.batch_norm2 = nn.BatchNorm1d(256)  # 256 차원으로 설정  두번째 layer output에 맞춰서\n",
    "\n",
    "    def forward(self,x):   # 순전파.  쭉 흐르는것 계산                             층들을 선형결합으로 통과 > sigmoid > softmax\n",
    "        x = x.view(-1,28*28)  # 2차원인 이미지를 1차원으로 변경 flatten\n",
    "        ##################################################################################\n",
    "\n",
    "        x = self.fc1(x)  # 첫번째 층에 통과\n",
    "        x = self.batch_norm1(x) # batch 정규화\n",
    "        x = F.relu(x)  # sigmoid  , relu\n",
    "        x = F.dropout(x, training = self.training, p = self.dropout_prob) # 0.5 의 확률로 각 노드들을 0상태로 만든다. training 일때만 해야하므로 설정.\n",
    "        ##################################################################################\n",
    "\n",
    "        x = self.fc2(x)  # 두번째 층에 통과\n",
    "        x = self.batch_norm2(x)  # batch 정규화\n",
    "        x = F.relu(x )  # sigmoid  , relu \n",
    "        x = F.dropout(x, training = self.training, p = self.dropout_prob) # 0.5 의 확률로 각 노드들을 0상태로 만든다. training 일때만 해야하므로 설정.\n",
    "        ##################################################################################\n",
    "\n",
    "        x = self.fc3(x)  # 세번째 층에 통과\n",
    "        #x = F.sigmoid(x)  # sigmoid 왜 안해?\n",
    "        ##################################################################################\n",
    "\n",
    "        x = F.log_softmax(x, dim=1)  # 0부터 9 까지 숫자중에서 하나의 숫자로 분류하는것 \n",
    "        return x\n",
    "        "
   ]
  },
  {
   "cell_type": "markdown",
   "metadata": {},
   "source": [
    "# Optimizer Objective function"
   ]
  },
  {
   "cell_type": "code",
   "execution_count": 29,
   "metadata": {},
   "outputs": [],
   "source": [
    "def weight_init(m):  # init 파라미터 He 방식으로 설정\n",
    "    if isinstance(m,nn.Linear):\n",
    "        init.kaiming_uniform_(m.weight.data)"
   ]
  },
  {
   "cell_type": "code",
   "execution_count": 34,
   "metadata": {},
   "outputs": [],
   "source": [
    "model = Net().to(DEVICE)   # 모델 객체 생성\n",
    "model.apply(weight_init)  # init 파라미터들 설정 \n",
    "\n",
    "optimizer = torch.optim.SGD(model.parameters(), lr = 0.01 , momentum = 0.5) #역전파할때 이용하는 옵티마이저 설정 > SGD알고리즘으로 설정\n",
    "optimizer = torch.optim.Adam(model.parameters(), lr = 0.01)\n",
    "criterion = nn.CrossEntropyLoss() # 실제 y 와 ybar 의 Loss 계산 > CrossEntropy 알고리즘 사용"
   ]
  },
  {
   "cell_type": "markdown",
   "metadata": {},
   "source": [
    "# Train Function"
   ]
  },
  {
   "cell_type": "code",
   "execution_count": 35,
   "metadata": {},
   "outputs": [],
   "source": [
    "def train(model,train_loader,optimizer, log_interval):  # MLP 모델 학습하는 함수 정의\n",
    "    model.train() # 모델을 학습상태로 지정\n",
    "    for batch_idx,(image,label) in enumerate(train_loader):   # 미니배치 k개로 저장된것을 enum 시키고 batch idx와  image와 label 튜플로.. > 즉 한 에폭 수행  그러면 어떻게 되나면 ,,   0 , (32*1*28*28 , 32)   ... 이렇게 된다  첫번째 for문은 첫번째 미니배치, 두번째 는 두번쨰.. 등등\n",
    "        image = image.to(DEVICE) \n",
    "        label = label.to(DEVICE)\n",
    "        optimizer.zero_grad()      # SGD 알고리즘에서 gradient 초기화\n",
    "        output = model(image)  # 이미지를 이용해서 미니배치의 결과값 계산  output 은 32개가 있을것이다.\n",
    "        loss = criterion(output,label) # 계산된 32개의 output과 label 의 32개 값들을 비교해서 loss 를 구한다.\n",
    "        loss.backward() # CrossEntropyLoss 객체의 역전파 수행\n",
    "        optimizer.step() # 각 파라ㅣ터에 할당된 gradient 값을 이용해서 파라미터 업데이트  ## 정확히 이게 뭔지 이해가 안간다\n",
    "\n"
   ]
  },
  {
   "cell_type": "code",
   "execution_count": 36,
   "metadata": {},
   "outputs": [],
   "source": [
    "def evaluate(model, test_loader):  # 모델의 성능 평가\n",
    "    model.eval() # 모델을 평가상태로 지정\n",
    "    test_loss = 0\n",
    "    correct = 0   # 초기화\n",
    "\n",
    "    with torch.no_grad() :  # 모델 평가단계에서는 gradient 흐름 제어\n",
    "        for image,label in test_loader :  # 미니배치로 저장된 테스트로더들,  한 반복문당 하나의 미니배치 수행\n",
    "            image = image.to(DEVICE)\n",
    "            label = label.to(DEVICE)\n",
    "            output = model(image)  # 32,1,28,28 이미지를 input으로  32 텐서의 output 계산\n",
    "            test_loss += criterion(output,label).item()  # 32개의 output과 label 들의 loss 값을 계산 그리고 이것은 매 미니배치마다 더해진다\n",
    "            prediction = output.max(1,keepdim = True)[1] # prediction은 32텐서이고, 32개의 수들에 대해서 10개 중 가장 일치하는 값들을 저장  , loss 와 별개로 정확도 예측을위해서 왜 1 index 값이지?\n",
    "            correct += prediction.eq(label.view_as(prediction)).sum().item() # 최종 예측한 output 과 label 이 일치하면 그 갯수를 더한다. 32개 있으므로 sum\n",
    "\n",
    "    test_loss /= len(test_loader.dataset) # loss 값을 미니배치 개수 만큼 나눠서 평균값을 구한다.  즉 한 미니배치의 loss 계산한것\n",
    "    test_accuacy = 100. * correct / len(test_loader.dataset) # 정확도도 마찬가지\n",
    "\n",
    "    return test_loss , test_accuacy\n",
    "\n",
    "\n"
   ]
  },
  {
   "cell_type": "markdown",
   "metadata": {},
   "source": [
    "# Run  and loss accuracy"
   ]
  },
  {
   "cell_type": "code",
   "execution_count": 37,
   "metadata": {},
   "outputs": [
    {
     "name": "stdout",
     "output_type": "stream",
     "text": [
      "Epoch: 1 , test loss : 0.004553133796536713 , test accur: 95.23\n"
     ]
    }
   ],
   "source": [
    "for Epoch in range(1, EPOCHS+1) :  # 에폭만큼 수행\n",
    "    train(model, train_loader,optimizer,log_interval=200)  # train 함수실행 (학습실행) 매개변수는 모델, 데이터, 역전파, 관찰값\n",
    "    test_loss, test_accuracy = evaluate(model, test_loader)  # evaluate 함수실행 > 즉 테스트데이터의 loss accur 구하기\n",
    "\n",
    "    print(\"Epoch: {} , test loss : {} , test accur: {}\".format(Epoch,test_loss,test_accuracy))"
   ]
  },
  {
   "cell_type": "code",
   "execution_count": null,
   "metadata": {},
   "outputs": [],
   "source": []
  }
 ],
 "metadata": {
  "kernelspec": {
   "display_name": "Python 3.9.12 ('pytorch')",
   "language": "python",
   "name": "python3"
  },
  "language_info": {
   "codemirror_mode": {
    "name": "ipython",
    "version": 3
   },
   "file_extension": ".py",
   "mimetype": "text/x-python",
   "name": "python",
   "nbconvert_exporter": "python",
   "pygments_lexer": "ipython3",
   "version": "3.9.12"
  },
  "orig_nbformat": 4,
  "vscode": {
   "interpreter": {
    "hash": "1ea6ee3ec3c4ebf74b2873ec5baa84df7b133a2e788668e0676c82f263aa15b2"
   }
  }
 },
 "nbformat": 4,
 "nbformat_minor": 2
}
