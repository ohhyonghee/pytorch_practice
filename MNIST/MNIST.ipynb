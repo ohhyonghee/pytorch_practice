{
 "cells": [
  {
   "cell_type": "markdown",
   "metadata": {},
   "source": [
    "# Import module"
   ]
  },
  {
   "cell_type": "code",
   "execution_count": 2,
   "metadata": {},
   "outputs": [],
   "source": [
    "import numpy as np\n",
    "import matplotlib.pyplot as plt\n",
    "import torch\n",
    "import torch.nn as nn\n",
    "import torch.nn.functional as F\n",
    "from torchvision import transforms\n",
    "from torchvision import datasets"
   ]
  },
  {
   "cell_type": "code",
   "execution_count": 3,
   "metadata": {},
   "outputs": [
    {
     "name": "stdout",
     "output_type": "stream",
     "text": [
      "Using PyTorch version :  1.11.0 Device : cpu\n"
     ]
    }
   ],
   "source": [
    "if torch.cuda.is_available():\n",
    "    DEVICE = torch.device('cuda')\n",
    "else:\n",
    "    DEVICE = torch.device('cpu')\n",
    "print('Using PyTorch version : ',torch.__version__,'Device :',DEVICE)"
   ]
  },
  {
   "cell_type": "markdown",
   "metadata": {},
   "source": [
    "# Parameter"
   ]
  },
  {
   "cell_type": "code",
   "execution_count": 4,
   "metadata": {},
   "outputs": [],
   "source": [
    "BATCH_SIZE = 32\n",
    "EPOCHS = 10"
   ]
  },
  {
   "cell_type": "markdown",
   "metadata": {},
   "source": [
    "# Data Load"
   ]
  },
  {
   "cell_type": "code",
   "execution_count": 24,
   "metadata": {},
   "outputs": [],
   "source": [
    "train_dataset = datasets.MNIST(root = \"../MNIST/data/MNIST\",   # 보통 pandas로 받아오나, 이번에는 pytorchVision에서 받아옴  MNIST 객체\n",
    "                                train = True,   # train과 test 분리\n",
    "                                download = True,\n",
    "                                transform = transforms.ToTensor()) # 이미지를 텐서로 변경\n",
    "test_dataset = datasets.MNIST(root = \"../MNIST/data/MNIST\",\n",
    "                                train = False,\n",
    "                                transform = transforms.ToTensor())\n",
    "train_loader = torch.utils.data.DataLoader(dataset = train_dataset,   # 각각의 minibatch 로 묶어줌    DataLoad 객체\n",
    "                                            batch_size = BATCH_SIZE, # 32개의 batchsize 가  하나의 minibatch 이룸\n",
    "                                            shuffle = False)\n",
    "test_loader = torch.utils.data.DataLoader(dataset = test_dataset,\n",
    "                                            batch_size = BATCH_SIZE,\n",
    "                                            shuffle = False)                                           "
   ]
  },
  {
   "cell_type": "markdown",
   "metadata": {},
   "source": [
    "# Check Data"
   ]
  },
  {
   "cell_type": "code",
   "execution_count": 27,
   "metadata": {},
   "outputs": [
    {
     "name": "stdout",
     "output_type": "stream",
     "text": [
      "[tensor([[[[0., 0., 0.,  ..., 0., 0., 0.],\n",
      "          [0., 0., 0.,  ..., 0., 0., 0.],\n",
      "          [0., 0., 0.,  ..., 0., 0., 0.],\n",
      "          ...,\n",
      "          [0., 0., 0.,  ..., 0., 0., 0.],\n",
      "          [0., 0., 0.,  ..., 0., 0., 0.],\n",
      "          [0., 0., 0.,  ..., 0., 0., 0.]]],\n",
      "\n",
      "\n",
      "        [[[0., 0., 0.,  ..., 0., 0., 0.],\n",
      "          [0., 0., 0.,  ..., 0., 0., 0.],\n",
      "          [0., 0., 0.,  ..., 0., 0., 0.],\n",
      "          ...,\n",
      "          [0., 0., 0.,  ..., 0., 0., 0.],\n",
      "          [0., 0., 0.,  ..., 0., 0., 0.],\n",
      "          [0., 0., 0.,  ..., 0., 0., 0.]]],\n",
      "\n",
      "\n",
      "        [[[0., 0., 0.,  ..., 0., 0., 0.],\n",
      "          [0., 0., 0.,  ..., 0., 0., 0.],\n",
      "          [0., 0., 0.,  ..., 0., 0., 0.],\n",
      "          ...,\n",
      "          [0., 0., 0.,  ..., 0., 0., 0.],\n",
      "          [0., 0., 0.,  ..., 0., 0., 0.],\n",
      "          [0., 0., 0.,  ..., 0., 0., 0.]]],\n",
      "\n",
      "\n",
      "        ...,\n",
      "\n",
      "\n",
      "        [[[0., 0., 0.,  ..., 0., 0., 0.],\n",
      "          [0., 0., 0.,  ..., 0., 0., 0.],\n",
      "          [0., 0., 0.,  ..., 0., 0., 0.],\n",
      "          ...,\n",
      "          [0., 0., 0.,  ..., 0., 0., 0.],\n",
      "          [0., 0., 0.,  ..., 0., 0., 0.],\n",
      "          [0., 0., 0.,  ..., 0., 0., 0.]]],\n",
      "\n",
      "\n",
      "        [[[0., 0., 0.,  ..., 0., 0., 0.],\n",
      "          [0., 0., 0.,  ..., 0., 0., 0.],\n",
      "          [0., 0., 0.,  ..., 0., 0., 0.],\n",
      "          ...,\n",
      "          [0., 0., 0.,  ..., 0., 0., 0.],\n",
      "          [0., 0., 0.,  ..., 0., 0., 0.],\n",
      "          [0., 0., 0.,  ..., 0., 0., 0.]]],\n",
      "\n",
      "\n",
      "        [[[0., 0., 0.,  ..., 0., 0., 0.],\n",
      "          [0., 0., 0.,  ..., 0., 0., 0.],\n",
      "          [0., 0., 0.,  ..., 0., 0., 0.],\n",
      "          ...,\n",
      "          [0., 0., 0.,  ..., 0., 0., 0.],\n",
      "          [0., 0., 0.,  ..., 0., 0., 0.],\n",
      "          [0., 0., 0.,  ..., 0., 0., 0.]]]]), tensor([5, 0, 4, 1, 9, 2, 1, 3, 1, 4, 3, 5, 3, 6, 1, 7, 2, 8, 6, 9, 4, 0, 9, 1,\n",
      "        1, 2, 4, 3, 2, 7, 3, 8])]\n",
      "torch.Size([32, 1, 28, 28])\n",
      "[tensor([[[[0., 0., 0.,  ..., 0., 0., 0.],\n",
      "          [0., 0., 0.,  ..., 0., 0., 0.],\n",
      "          [0., 0., 0.,  ..., 0., 0., 0.],\n",
      "          ...,\n",
      "          [0., 0., 0.,  ..., 0., 0., 0.],\n",
      "          [0., 0., 0.,  ..., 0., 0., 0.],\n",
      "          [0., 0., 0.,  ..., 0., 0., 0.]]],\n",
      "\n",
      "\n",
      "        [[[0., 0., 0.,  ..., 0., 0., 0.],\n",
      "          [0., 0., 0.,  ..., 0., 0., 0.],\n",
      "          [0., 0., 0.,  ..., 0., 0., 0.],\n",
      "          ...,\n",
      "          [0., 0., 0.,  ..., 0., 0., 0.],\n",
      "          [0., 0., 0.,  ..., 0., 0., 0.],\n",
      "          [0., 0., 0.,  ..., 0., 0., 0.]]],\n",
      "\n",
      "\n",
      "        [[[0., 0., 0.,  ..., 0., 0., 0.],\n",
      "          [0., 0., 0.,  ..., 0., 0., 0.],\n",
      "          [0., 0., 0.,  ..., 0., 0., 0.],\n",
      "          ...,\n",
      "          [0., 0., 0.,  ..., 0., 0., 0.],\n",
      "          [0., 0., 0.,  ..., 0., 0., 0.],\n",
      "          [0., 0., 0.,  ..., 0., 0., 0.]]],\n",
      "\n",
      "\n",
      "        ...,\n",
      "\n",
      "\n",
      "        [[[0., 0., 0.,  ..., 0., 0., 0.],\n",
      "          [0., 0., 0.,  ..., 0., 0., 0.],\n",
      "          [0., 0., 0.,  ..., 0., 0., 0.],\n",
      "          ...,\n",
      "          [0., 0., 0.,  ..., 0., 0., 0.],\n",
      "          [0., 0., 0.,  ..., 0., 0., 0.],\n",
      "          [0., 0., 0.,  ..., 0., 0., 0.]]],\n",
      "\n",
      "\n",
      "        [[[0., 0., 0.,  ..., 0., 0., 0.],\n",
      "          [0., 0., 0.,  ..., 0., 0., 0.],\n",
      "          [0., 0., 0.,  ..., 0., 0., 0.],\n",
      "          ...,\n",
      "          [0., 0., 0.,  ..., 0., 0., 0.],\n",
      "          [0., 0., 0.,  ..., 0., 0., 0.],\n",
      "          [0., 0., 0.,  ..., 0., 0., 0.]]],\n",
      "\n",
      "\n",
      "        [[[0., 0., 0.,  ..., 0., 0., 0.],\n",
      "          [0., 0., 0.,  ..., 0., 0., 0.],\n",
      "          [0., 0., 0.,  ..., 0., 0., 0.],\n",
      "          ...,\n",
      "          [0., 0., 0.,  ..., 0., 0., 0.],\n",
      "          [0., 0., 0.,  ..., 0., 0., 0.],\n",
      "          [0., 0., 0.,  ..., 0., 0., 0.]]]]), tensor([6, 9, 0, 5, 6, 0, 7, 6, 1, 8, 7, 9, 3, 9, 8, 5, 9, 3, 3, 0, 7, 4, 9, 8,\n",
      "        0, 9, 4, 1, 4, 4, 6, 0])]\n",
      "torch.Size([32, 1, 28, 28])\n"
     ]
    }
   ],
   "source": [
    "n=0\n",
    "for i in train_loader :  # 이터러블 객체. \n",
    "    n +=1   \n",
    "    print(i)  #  i 는   트레인 데이터셋은  (3차원텐서, 스칼라)           로드 후 [ 4차원텐서 , 1차원텐서  ] 형식으로 이루어짐    \n",
    "    print(i[0].size())  # 데이터 로드 하기 전에는 1 , 28 , 28  50           로드 한 후에 32, 1, 28, 28       이미지데이터수 , 채널 , 가로 , 세로    5041\n",
    "    if n ==2 :                #   즉 모든 수 들이 32개씩 묶인다. 5, 0, 4, 1, 9, 2, 1, 3, 1, 4, 3, 5, 3, 6, 1, 7, 2, 8, 6, 9, 4, 0, 9, 1,\n",
    "                                                                #1, 2, 4, 3, 2, 7, 3, 8\n",
    "        break\n",
    "\n",
    "\n",
    "# 즉 트레인 데이터셋에서  데이터로드 함수를 이용해서 미니배치로 묶어준 것이다."
   ]
  },
  {
   "cell_type": "code",
   "execution_count": 19,
   "metadata": {},
   "outputs": [
    {
     "name": "stdout",
     "output_type": "stream",
     "text": [
      "X_tran: torch.Size([32, 1, 28, 28]) type :  torch.FloatTensor\n",
      "Y_tran: torch.Size([32]) type :  torch.LongTensor\n"
     ]
    }
   ],
   "source": [
    "for (X_train, Y_train) in train_loader:\n",
    "    print(\"X_tran:\", X_train.size(), 'type : ', X_train.type())\n",
    "    print(\"Y_tran:\", Y_train.size(), 'type : ', Y_train.type())\n",
    "    break"
   ]
  },
  {
   "cell_type": "code",
   "execution_count": 31,
   "metadata": {},
   "outputs": [
    {
     "data": {
      "image/png": "[encoded data removed]",
      "text/plain": [
       "<Figure size 720x72 with 10 Axes>"
      ]
     },
     "metadata": {
      "needs_background": "light"
     },
     "output_type": "display_data"
    }
   ],
   "source": [
    "pltsize = 1   #5, 0, 4, 1, 9, 2, 1, 3, 1, 4, 3, 5, 3, 6, 1, 7, 2, 8, 6, 9, 4, 0, 9, 1 , 1, 2, 4, 3, 2, 7, 3, 8   하나의 미니배치이다. 근데, 미니배치 0 번 인덱스인데 왜 5만 나오지 그럼 다음미니배치인 6은 어떻게 ? 아니다. 이게 맞다.  32개가 있다는것은 ,  미니배치가 32개라는 말이 아니라, 한개의 미니배치 안에 32개의 데이터가 있다는 말이다. 그래서 다음 데이터가 맞다.  다음 미니배치를 불러오려면??\n",
    "                                                               \n",
    "plt.figure(figsize=(10 * pltsize, pltsize))\n",
    "#plt.imshow(X_train[3,:,:,:].reshape(28,28))    \n",
    "\n",
    "for i in range(10):\n",
    "    plt.subplot(1,10,i+1)\n",
    "    plt.axis('off')\n",
    "    plt.imshow(X_train[i,:,:,:].numpy().reshape(28,28),cmap = \"gray_r\")   # 한 미니배치의 각 데이터, 채널 , 가로 , 세로  >> 가로 , 세로\n",
    "    plt.title('Class : '+str(Y_train[i].item()))"
   ]
  },
  {
   "cell_type": "markdown",
   "metadata": {},
   "source": [
    "# Module"
   ]
  },
  {
   "cell_type": "code",
   "execution_count": 33,
   "metadata": {},
   "outputs": [],
   "source": [
    "class Net(nn.Module) : # pytorch 모듈 내에 nn.Module 상속         \n",
    "    def __init__(self):  # 생성자 풀리커넥티드 레이어 생성\n",
    "        super(Net,self).__init__()  # nn.Module 메소드 상속받아서 이용\n",
    "        self.fc1 = nn.Linear(28*28, 512)   # 첫번째 fullyconnectedlayer   1,28,28   >> 512 로\n",
    "        self.fc2 = nn.Linear(512,256)   # 두번째   512 >> 256 으로\n",
    "        self.fc3 = nn.Linear(256,10)  # 세번째  256 >> 10 으로   0부터 9까지      >> 즉 \n",
    "    def forward(self,x):   # 순전파.  쭉 흐르는것 계산                             층들을 선형결합으로 통과 > sigmoid > softmax\n",
    "        x = x.view(-1,28*28)  # 2차원인 이미지를 1차원으로 변경 flatten\n",
    "        x = self.fc1(x)  # 첫번째 층에 통과\n",
    "        x = F.sigmoid(x)  # sigmoid\n",
    "        x = self.fc2(x)  # 두번째 층에 통과\n",
    "        x = F.sigmoid(x )  # sigmoid\n",
    "        x = self.fc3(x)  # 세번째 층에 통과\n",
    "        x = F.sigmoid(x)  # sigmoid\n",
    "        x = F.log_softmax(x, dim=1)  # 0부터 9 까지 숫자중에서 하나의 숫자로 분류하는것 \n",
    "        return x\n",
    "        "
   ]
  },
  {
   "cell_type": "markdown",
   "metadata": {},
   "source": [
    "# Optimizer Objective function"
   ]
  },
  {
   "cell_type": "code",
   "execution_count": 34,
   "metadata": {},
   "outputs": [],
   "source": [
    "model = Net().to(DEVICE)   # 모델 객체 생성\n",
    "optimizer = torch.optim.SGD(model.parameters(), lr = 0.01 , momentum = 0.5) #역전파할때 이용하는 옵티마이저 설정 > SGD알고리즘으로 설정\n",
    "criterion = nn.CrossEntropyLoss() # 실제 y 와 ybar 의 Loss 계산 > CrossEntropy 알고리즘 사용"
   ]
  },
  {
   "cell_type": "markdown",
   "metadata": {},
   "source": [
    "# Train Function"
   ]
  },
  {
   "cell_type": "code",
   "execution_count": 35,
   "metadata": {},
   "outputs": [],
   "source": [
    "def train(model,train_loader,optimizer, log_interval):  # MLP 모델 학습하는 함수 정의\n",
    "    model.train() # 모델을 학습상태로 지정\n",
    "    for batch_idx,(image,label) in enumerate(train_loader):   # 미니배치 k개로 저장된것을 enum 시키고 batch idx와  image와 label 튜플로.. > 즉 한 에폭 수행  그러면 어떻게 되나면 ,,   0 , (32*1*28*28 , 32)   ... 이렇게 된다  첫번째 for문은 첫번째 미니배치, 두번째 는 두번쨰.. 등등\n",
    "        image = image.to(DEVICE) \n",
    "        label = label.to(DEVICE)\n",
    "        optimizer.zero_grad()      # SGD 알고리즘에서 gradient 초기화\n",
    "        output = model(image)  # 이미지를 이용해서 미니배치의 결과값 계산  output 은 32개가 있을것이다.\n",
    "        loss = criterion(output,label) # 계산된 32개의 output과 label 의 32개 값들을 비교해서 loss 를 구한다.\n",
    "        loss.backward() # CrossEntropyLoss 객체의 역전파 수행\n",
    "        optimizer.step() # 각 파라ㅣ터에 할당된 gradient 값을 이용해서 파라미터 업데이트  ## 정확히 이게 뭔지 이해가 안간다\n",
    "\n"
   ]
  },
  {
   "cell_type": "code",
   "execution_count": 36,
   "metadata": {},
   "outputs": [],
   "source": [
    "def evaluate(model, test_loader):  # 모델의 성능 평가\n",
    "    model.eval() # 모델을 평가상태로 지정\n",
    "    test_loss = 0\n",
    "    correct = 0   # 초기화\n",
    "\n",
    "    with torch.no_grad() :  # 모델 평가단계에서는 gradient 흐름 제어\n",
    "        for image,label in test_loader :  # 미니배치로 저장된 테스트로더들,  한 반복문당 하나의 미니배치 수행\n",
    "            image = image.to(DEVICE)\n",
    "            label = label.to(DEVICE)\n",
    "            output = model(image)  # 32,1,28,28 이미지를 input으로  32 텐서의 output 계산\n",
    "            test_loss += criterion(output,label).item()  # 32개의 output과 label 들의 loss 값을 계산 그리고 이것은 매 미니배치마다 더해진다\n",
    "            prediction = output.max(1,keepdim = True) # prediction은 32텐서이고, 32개의 수들에 대해서 10개 중 가장 일치하는 값들을 저장  , loss 와 별개로 정확도 예측을위해서\n",
    "            correct += prediction.eq(label.view_as(prediction)).sum().item() # 최종 예측한 output 과 label 이 일치하면 그 갯수를 더한다. 32개 있으므로 sum\n",
    "\n",
    "    test_loss /= len(test_loader.dataset) # loss 값을 미니배치 개수 만큼 나눠서 평균값을 구한다.  즉 한 미니배치의 loss 계산한것\n",
    "    test_accuacy = 100. * correct / len(test_loader.dataset) # 정확도도 마찬가지\n",
    "\n",
    "    return test_loss , test_accuacy\n",
    "\n",
    "\n"
   ]
  },
  {
   "cell_type": "code",
   "execution_count": null,
   "metadata": {},
   "outputs": [],
   "source": []
  }
 ],
 "metadata": {
  "kernelspec": {
   "display_name": "Python 3.9.12 ('pytorch')",
   "language": "python",
   "name": "python3"
  },
  "language_info": {
   "codemirror_mode": {
    "name": "ipython",
    "version": 3
   },
   "file_extension": ".py",
   "mimetype": "text/x-python",
   "name": "python",
   "nbconvert_exporter": "python",
   "pygments_lexer": "ipython3",
   "version": "3.9.12"
  },
  "orig_nbformat": 4,
  "vscode": {
   "interpreter": {
    "hash": "1ea6ee3ec3c4ebf74b2873ec5baa84df7b133a2e788668e0676c82f263aa15b2"
   }
  }
 },
 "nbformat": 4,
 "nbformat_minor": 2
}
